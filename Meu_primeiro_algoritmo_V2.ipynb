{
  "nbformat": 4,
  "nbformat_minor": 0,
  "metadata": {
    "colab": {
      "provenance": []
    },
    "kernelspec": {
      "name": "python3",
      "display_name": "Python 3"
    },
    "language_info": {
      "name": "python"
    }
  },
  "cells": [
    {
      "cell_type": "code",
      "execution_count": 2,
      "metadata": {
        "colab": {
          "base_uri": "https://localhost:8080/"
        },
        "id": "TwmXKqLN80US",
        "outputId": "d6c0ad87-30ff-416f-f90a-59d52fcb3377"
      },
      "outputs": [
        {
          "output_type": "stream",
          "name": "stdout",
          "text": [
            "Calculadora simples em Python\n",
            "Digite o primeiro número: 10\n",
            "Digite o segundo número: 2\n",
            "\n",
            "Escolha a operação:\n",
            "1 - Soma\n",
            "2 - Subtração\n",
            "3 - Multiplicação\n",
            "4 - Divisão\n",
            "Digite o número da operação desejada (1/2/3/4): 3\n",
            "Resultado da multiplicação: 20.0\n",
            "\n",
            "Deseja fazer outra operação? (s/n): s\n",
            "Digite o primeiro número: 50\n",
            "Digite o segundo número: 2\n",
            "\n",
            "Escolha a operação:\n",
            "1 - Soma\n",
            "2 - Subtração\n",
            "3 - Multiplicação\n",
            "4 - Divisão\n",
            "Digite o número da operação desejada (1/2/3/4): 4\n",
            "Resultado da divisão: 25.0\n",
            "\n",
            "Deseja fazer outra operação? (s/n): n\n",
            "Encerrando a calculadora. Até mais!\n"
          ]
        }
      ],
      "source": [
        "print(\"Calculadora simples em Python\")\n",
        "\n",
        "while True:\n",
        "    # Entrada de dados\n",
        "    num1 = float(input(\"Digite o primeiro número: \"))\n",
        "    num2 = float(input(\"Digite o segundo número: \"))\n",
        "\n",
        "    # Escolha da operação\n",
        "    print(\"\\nEscolha a operação:\")\n",
        "    print(\"1 - Soma\")\n",
        "    print(\"2 - Subtração\")\n",
        "    print(\"3 - Multiplicação\")\n",
        "    print(\"4 - Divisão\")\n",
        "\n",
        "    escolha = input(\"Digite o número da operação desejada (1/2/3/4): \")\n",
        "\n",
        "    # Condicional para executar a operação\n",
        "    if escolha == \"1\":\n",
        "        resultado = num1 + num2\n",
        "        print(f\"Resultado da soma: {resultado}\")\n",
        "    elif escolha == \"2\":\n",
        "        resultado = num1 - num2\n",
        "        print(f\"Resultado da subtração: {resultado}\")\n",
        "    elif escolha == \"3\":\n",
        "        resultado = num1 * num2\n",
        "        print(f\"Resultado da multiplicação: {resultado}\")\n",
        "    elif escolha == \"4\":\n",
        "        if num2 != 0:\n",
        "            resultado = num1 / num2\n",
        "            print(f\"Resultado da divisão: {resultado}\")\n",
        "        else:\n",
        "            print(\"Erro: Divisão por zero não é permitida.\")\n",
        "    else:\n",
        "        print(\"Operação inválida.\")\n",
        "\n",
        "    # Pergunta se o usuário quer continuar\n",
        "    continuar = input(\"\\nDeseja fazer outra operação? (s/n): \")\n",
        "    if continuar.lower() != 's':\n",
        "        print(\"Encerrando a calculadora. Até mais!\")\n",
        "        break"
      ]
    }
  ]
}